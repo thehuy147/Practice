{
 "cells": [
  {
   "cell_type": "code",
   "execution_count": 2,
   "metadata": {},
   "outputs": [],
   "source": [
    "import pandas as pd\n",
    "import numpy as np\n",
    "import matplotlib.pyplot as plt\n",
    "from bs4 import BeautifulSoup\n",
    "import os"
   ]
  },
  {
   "cell_type": "markdown",
   "metadata": {},
   "source": [
    "### What we need to analyze\n",
    "* User Name\n",
    "* Review Text\n",
    "* Review Star\n",
    "* Date\n"
   ]
  },
  {
   "cell_type": "code",
   "execution_count": 3,
   "metadata": {
    "tags": []
   },
   "outputs": [],
   "source": [
    "with open(\"C:/Users/Admin/Desktop/Python_DA/Crawling/1.html\", \"r\", encoding = \"utf-8\") as reader:\n",
    "    html_string = reader.read()\n",
    "    soup = BeautifulSoup(html_string, \"html.parser\")"
   ]
  },
  {
   "cell_type": "code",
   "execution_count": 4,
   "metadata": {},
   "outputs": [
    {
     "data": {
      "text/plain": [
       "'5.0 out of 5 stars'"
      ]
     },
     "execution_count": 4,
     "metadata": {},
     "output_type": "execute_result"
    }
   ],
   "source": [
    "# Review Star\n",
    "soup.find_all(class_=\"review-rating\")[0].text.strip()"
   ]
  },
  {
   "cell_type": "code",
   "execution_count": 5,
   "metadata": {
    "tags": []
   },
   "outputs": [
    {
     "data": {
      "text/plain": [
       "\"At first when I got it, I assumed everything was fine, but i quickly noticed that there were a couple things off about the controller. It might have been my paranoia, but I dont think these controllers are authentic. My right analog stick has stopped working within 4 months of me buying the controller. I had my original controller for years before it stopped working, and this one didn't even last half a year. I don't understand how that is possible. I bought one from Best Buy on Black Friday and compared, and there are minute details that are off with the touch pad and the directional pad. Additionally, the serial number label on the back of the controller is different than the other controllers I have (two I bought from Best Buy a couple days ago). I recommend buying from the store...these are not the wave!\""
      ]
     },
     "execution_count": 5,
     "metadata": {},
     "output_type": "execute_result"
    }
   ],
   "source": [
    "# Review Text\n",
    "soup.find_all(class_=\"a-row a-spacing-small review-data\")[0].text.strip()"
   ]
  },
  {
   "cell_type": "markdown",
   "metadata": {},
   "source": [
    "### We will use\n",
    "*soup.find_all(class_=\"celwidget\") so we can crawl out each block comment, and then we will collect information inside each block through \"FOR\" loop below"
   ]
  },
  {
   "cell_type": "code",
   "execution_count": 82,
   "metadata": {},
   "outputs": [],
   "source": [
    "files = os.listdir(\"C:/Users/Admin/Desktop/Python_DA/Crawling/\")"
   ]
  },
  {
   "cell_type": "code",
   "execution_count": 83,
   "metadata": {
    "tags": []
   },
   "outputs": [],
   "source": [
    "review_star = []\n",
    "review_text = []\n",
    "review_date = []\n",
    "\n",
    "for i in files:\n",
    "    #print(i) for checking\n",
    "    with open(f\"C:/Users/Admin/Desktop/Python_DA/Crawling/{i}\", \"r\", encoding = \"utf8\") as reader:\n",
    "        html_string = reader.read()\n",
    "        soup = BeautifulSoup(html_string, \"html.parser\")\n",
    "        for review in soup.find_all(class_=\"a-section celwidget\"):\n",
    "            review_star.append(review.find_all(class_=\"review-rating\")[0].text.strip())\n",
    "            review_text.append(review.find_all(class_=\"review-text-content\")[0].text.strip())\n",
    "            review_date.append(review.find_all(class_=\"a-size-base a-color-secondary review-date\")[0].text.strip()) #Date of Review\n"
   ]
  },
  {
   "cell_type": "code",
   "execution_count": 84,
   "metadata": {},
   "outputs": [
    {
     "name": "stdout",
     "output_type": "stream",
     "text": [
      "1990\n",
      "1990\n"
     ]
    }
   ],
   "source": [
    "#checking\n",
    "print(len(review_star))\n",
    "print(len(review_text))"
   ]
  },
  {
   "cell_type": "code",
   "execution_count": 85,
   "metadata": {},
   "outputs": [
    {
     "data": {
      "text/html": [
       "<div>\n",
       "<style scoped>\n",
       "    .dataframe tbody tr th:only-of-type {\n",
       "        vertical-align: middle;\n",
       "    }\n",
       "\n",
       "    .dataframe tbody tr th {\n",
       "        vertical-align: top;\n",
       "    }\n",
       "\n",
       "    .dataframe thead th {\n",
       "        text-align: right;\n",
       "    }\n",
       "</style>\n",
       "<table border=\"1\" class=\"dataframe\">\n",
       "  <thead>\n",
       "    <tr style=\"text-align: right;\">\n",
       "      <th></th>\n",
       "      <th>Star</th>\n",
       "      <th>Text</th>\n",
       "      <th>Date</th>\n",
       "    </tr>\n",
       "  </thead>\n",
       "  <tbody>\n",
       "    <tr>\n",
       "      <th>0</th>\n",
       "      <td>1.0 out of 5 stars</td>\n",
       "      <td>At first when I got it, I assumed everything w...</td>\n",
       "      <td>Reviewed in the United States on November 25, ...</td>\n",
       "    </tr>\n",
       "    <tr>\n",
       "      <th>1</th>\n",
       "      <td>1.0 out of 5 stars</td>\n",
       "      <td>For some reason these controllers from Amazon ...</td>\n",
       "      <td>Reviewed in the United States on July 17, 2018</td>\n",
       "    </tr>\n",
       "    <tr>\n",
       "      <th>2</th>\n",
       "      <td>1.0 out of 5 stars</td>\n",
       "      <td>Bought this as a backup for my original PS4 co...</td>\n",
       "      <td>Reviewed in the United States on September 22,...</td>\n",
       "    </tr>\n",
       "    <tr>\n",
       "      <th>3</th>\n",
       "      <td>1.0 out of 5 stars</td>\n",
       "      <td>The left analog stick always wears out. You ma...</td>\n",
       "      <td>Reviewed in the United States on September 17,...</td>\n",
       "    </tr>\n",
       "    <tr>\n",
       "      <th>4</th>\n",
       "      <td>2.0 out of 5 stars</td>\n",
       "      <td>I have gone through two Dualshock 4 new model ...</td>\n",
       "      <td>Reviewed in the United States on May 29, 2018</td>\n",
       "    </tr>\n",
       "  </tbody>\n",
       "</table>\n",
       "</div>"
      ],
      "text/plain": [
       "                 Star                                               Text  \\\n",
       "0  1.0 out of 5 stars  At first when I got it, I assumed everything w...   \n",
       "1  1.0 out of 5 stars  For some reason these controllers from Amazon ...   \n",
       "2  1.0 out of 5 stars  Bought this as a backup for my original PS4 co...   \n",
       "3  1.0 out of 5 stars  The left analog stick always wears out. You ma...   \n",
       "4  2.0 out of 5 stars  I have gone through two Dualshock 4 new model ...   \n",
       "\n",
       "                                                Date  \n",
       "0  Reviewed in the United States on November 25, ...  \n",
       "1     Reviewed in the United States on July 17, 2018  \n",
       "2  Reviewed in the United States on September 22,...  \n",
       "3  Reviewed in the United States on September 17,...  \n",
       "4      Reviewed in the United States on May 29, 2018  "
      ]
     },
     "execution_count": 85,
     "metadata": {},
     "output_type": "execute_result"
    }
   ],
   "source": [
    "df = pd.DataFrame(data={\"Star\":review_star,\"Text\":review_text,\"Date\":review_date})\n",
    "df.head()"
   ]
  },
  {
   "cell_type": "code",
   "execution_count": 86,
   "metadata": {},
   "outputs": [],
   "source": [
    "df[\"Date\"] = df[\"Date\"].str.replace(\"Reviewed in the United States on \",\"\",regex = True)"
   ]
  },
  {
   "cell_type": "code",
   "execution_count": 164,
   "metadata": {},
   "outputs": [],
   "source": [
    "df.to_excel(\"Sentiment_analysis.xlsx\", index = False)"
   ]
  },
  {
   "cell_type": "code",
   "execution_count": 204,
   "metadata": {},
   "outputs": [
    {
     "data": {
      "text/html": [
       "<div>\n",
       "<style scoped>\n",
       "    .dataframe tbody tr th:only-of-type {\n",
       "        vertical-align: middle;\n",
       "    }\n",
       "\n",
       "    .dataframe tbody tr th {\n",
       "        vertical-align: top;\n",
       "    }\n",
       "\n",
       "    .dataframe thead th {\n",
       "        text-align: right;\n",
       "    }\n",
       "</style>\n",
       "<table border=\"1\" class=\"dataframe\">\n",
       "  <thead>\n",
       "    <tr style=\"text-align: right;\">\n",
       "      <th></th>\n",
       "      <th>Star</th>\n",
       "      <th>Text</th>\n",
       "      <th>Date</th>\n",
       "    </tr>\n",
       "  </thead>\n",
       "  <tbody>\n",
       "    <tr>\n",
       "      <th>0</th>\n",
       "      <td>1.0 out of 5 stars</td>\n",
       "      <td>At first when I got it I assumed everything wa...</td>\n",
       "      <td>November 25, 2018</td>\n",
       "    </tr>\n",
       "    <tr>\n",
       "      <th>1</th>\n",
       "      <td>1.0 out of 5 stars</td>\n",
       "      <td>For some reason these controllers from Amazon ...</td>\n",
       "      <td>July 17, 2018</td>\n",
       "    </tr>\n",
       "    <tr>\n",
       "      <th>2</th>\n",
       "      <td>1.0 out of 5 stars</td>\n",
       "      <td>Bought this as a backup for my original PS con...</td>\n",
       "      <td>September 22, 2018</td>\n",
       "    </tr>\n",
       "    <tr>\n",
       "      <th>3</th>\n",
       "      <td>1.0 out of 5 stars</td>\n",
       "      <td>The left analog stick always wears out You may...</td>\n",
       "      <td>September 17, 2018</td>\n",
       "    </tr>\n",
       "    <tr>\n",
       "      <th>4</th>\n",
       "      <td>2.0 out of 5 stars</td>\n",
       "      <td>I have gone through two Dualshock  new model c...</td>\n",
       "      <td>May 29, 2018</td>\n",
       "    </tr>\n",
       "  </tbody>\n",
       "</table>\n",
       "</div>"
      ],
      "text/plain": [
       "                 Star                                               Text  \\\n",
       "0  1.0 out of 5 stars  At first when I got it I assumed everything wa...   \n",
       "1  1.0 out of 5 stars  For some reason these controllers from Amazon ...   \n",
       "2  1.0 out of 5 stars  Bought this as a backup for my original PS con...   \n",
       "3  1.0 out of 5 stars  The left analog stick always wears out You may...   \n",
       "4  2.0 out of 5 stars  I have gone through two Dualshock  new model c...   \n",
       "\n",
       "                 Date  \n",
       "0   November 25, 2018  \n",
       "1       July 17, 2018  \n",
       "2  September 22, 2018  \n",
       "3  September 17, 2018  \n",
       "4        May 29, 2018  "
      ]
     },
     "execution_count": 204,
     "metadata": {},
     "output_type": "execute_result"
    }
   ],
   "source": [
    "df = pd.read_excel(\"Sentiment_analysis.xlsx\")\n",
    "df.head()"
   ]
  },
  {
   "cell_type": "markdown",
   "metadata": {},
   "source": [
    "I'm not learn AI and Machine Learning yet, so we will using a model from Hugging Face, is not 100% accurate but i think it will work in this case\n",
    "* It's still have some issues that i have no idea how to fix in the model, so i decided to removed some data out of the data set"
   ]
  },
  {
   "cell_type": "code",
   "execution_count": 20,
   "metadata": {},
   "outputs": [],
   "source": [
    "import tensorflow as tf"
   ]
  },
  {
   "cell_type": "code",
   "execution_count": 21,
   "metadata": {},
   "outputs": [],
   "source": [
    "from transformers import pipeline"
   ]
  },
  {
   "cell_type": "code",
   "execution_count": null,
   "metadata": {
    "tags": []
   },
   "outputs": [],
   "source": [
    "classifier = pipeline(\"sentiment-analysis\")"
   ]
  },
  {
   "cell_type": "code",
   "execution_count": 26,
   "metadata": {},
   "outputs": [
    {
     "name": "stdout",
     "output_type": "stream",
     "text": [
      "[{'label': 'NEGATIVE', 'score': 0.999817967414856}]\n",
      "[{'label': 'POSITIVE', 'score': 0.9998740553855896}]\n"
     ]
    }
   ],
   "source": [
    "#Example\n",
    "print(classifier('This is a bad product.'))\n",
    "print(classifier('Oh man, i love this thing.'))"
   ]
  },
  {
   "cell_type": "code",
   "execution_count": 210,
   "metadata": {},
   "outputs": [],
   "source": [
    "df[\"Text\"] = df[\"Text\"].str.replace(\"[^a-zA-Z\\s]+|https\",\"\",regex= True)\n",
    "df[\"Text\"] = df[\"Text\"].str.replace(\"^(\\s+)\",\"\",regex= True)"
   ]
  },
  {
   "cell_type": "code",
   "execution_count": 211,
   "metadata": {
    "tags": []
   },
   "outputs": [
    {
     "data": {
      "text/html": [
       "<div>\n",
       "<style scoped>\n",
       "    .dataframe tbody tr th:only-of-type {\n",
       "        vertical-align: middle;\n",
       "    }\n",
       "\n",
       "    .dataframe tbody tr th {\n",
       "        vertical-align: top;\n",
       "    }\n",
       "\n",
       "    .dataframe thead th {\n",
       "        text-align: right;\n",
       "    }\n",
       "</style>\n",
       "<table border=\"1\" class=\"dataframe\">\n",
       "  <thead>\n",
       "    <tr style=\"text-align: right;\">\n",
       "      <th></th>\n",
       "      <th>Star</th>\n",
       "      <th>Text</th>\n",
       "      <th>Date</th>\n",
       "    </tr>\n",
       "  </thead>\n",
       "  <tbody>\n",
       "    <tr>\n",
       "      <th>0</th>\n",
       "      <td>1.0 out of 5 stars</td>\n",
       "      <td>At first when I got it I assumed everything wa...</td>\n",
       "      <td>November 25, 2018</td>\n",
       "    </tr>\n",
       "    <tr>\n",
       "      <th>1</th>\n",
       "      <td>1.0 out of 5 stars</td>\n",
       "      <td>For some reason these controllers from Amazon ...</td>\n",
       "      <td>July 17, 2018</td>\n",
       "    </tr>\n",
       "    <tr>\n",
       "      <th>2</th>\n",
       "      <td>1.0 out of 5 stars</td>\n",
       "      <td>Bought this as a backup for my original PS con...</td>\n",
       "      <td>September 22, 2018</td>\n",
       "    </tr>\n",
       "    <tr>\n",
       "      <th>3</th>\n",
       "      <td>1.0 out of 5 stars</td>\n",
       "      <td>The left analog stick always wears out You may...</td>\n",
       "      <td>September 17, 2018</td>\n",
       "    </tr>\n",
       "    <tr>\n",
       "      <th>4</th>\n",
       "      <td>2.0 out of 5 stars</td>\n",
       "      <td>I have gone through two Dualshock  new model c...</td>\n",
       "      <td>May 29, 2018</td>\n",
       "    </tr>\n",
       "  </tbody>\n",
       "</table>\n",
       "</div>"
      ],
      "text/plain": [
       "                 Star                                               Text  \\\n",
       "0  1.0 out of 5 stars  At first when I got it I assumed everything wa...   \n",
       "1  1.0 out of 5 stars  For some reason these controllers from Amazon ...   \n",
       "2  1.0 out of 5 stars  Bought this as a backup for my original PS con...   \n",
       "3  1.0 out of 5 stars  The left analog stick always wears out You may...   \n",
       "4  2.0 out of 5 stars  I have gone through two Dualshock  new model c...   \n",
       "\n",
       "                 Date  \n",
       "0   November 25, 2018  \n",
       "1       July 17, 2018  \n",
       "2  September 22, 2018  \n",
       "3  September 17, 2018  \n",
       "4        May 29, 2018  "
      ]
     },
     "execution_count": 211,
     "metadata": {},
     "output_type": "execute_result"
    }
   ],
   "source": [
    "df.head()"
   ]
  },
  {
   "cell_type": "code",
   "execution_count": 217,
   "metadata": {
    "tags": []
   },
   "outputs": [],
   "source": [
    "sentiment_label = []\n",
    "sentiment_score = []\n",
    "#counter = 0\n",
    "for review in df[\"Text\"]:\n",
    "    classification = classifier(review, max_length = 2048)\n",
    "    sentiment_label.append(classification[0].get(\"label\"))\n",
    "    sentiment_score.append(classification[0].get(\"score\"))\n",
    "    #counter +=1\n",
    "    #print(counter)\n"
   ]
  },
  {
   "cell_type": "markdown",
   "metadata": {},
   "source": [
    "#### Checking and remove some data"
   ]
  },
  {
   "cell_type": "code",
   "execution_count": null,
   "metadata": {},
   "outputs": [],
   "source": [
    "#classifier(df[\"Text\"][1561])"
   ]
  },
  {
   "cell_type": "code",
   "execution_count": 214,
   "metadata": {},
   "outputs": [],
   "source": [
    "#df.drop([1561], axis = 0, inplace = True)"
   ]
  },
  {
   "cell_type": "code",
   "execution_count": 219,
   "metadata": {},
   "outputs": [
    {
     "data": {
      "text/html": [
       "<div>\n",
       "<style scoped>\n",
       "    .dataframe tbody tr th:only-of-type {\n",
       "        vertical-align: middle;\n",
       "    }\n",
       "\n",
       "    .dataframe tbody tr th {\n",
       "        vertical-align: top;\n",
       "    }\n",
       "\n",
       "    .dataframe thead th {\n",
       "        text-align: right;\n",
       "    }\n",
       "</style>\n",
       "<table border=\"1\" class=\"dataframe\">\n",
       "  <thead>\n",
       "    <tr style=\"text-align: right;\">\n",
       "      <th></th>\n",
       "      <th>Sentiment label</th>\n",
       "      <th>Sentiment score</th>\n",
       "    </tr>\n",
       "  </thead>\n",
       "  <tbody>\n",
       "    <tr>\n",
       "      <th>0</th>\n",
       "      <td>NEGATIVE</td>\n",
       "      <td>0.998424</td>\n",
       "    </tr>\n",
       "    <tr>\n",
       "      <th>1</th>\n",
       "      <td>NEGATIVE</td>\n",
       "      <td>0.999487</td>\n",
       "    </tr>\n",
       "    <tr>\n",
       "      <th>2</th>\n",
       "      <td>NEGATIVE</td>\n",
       "      <td>0.999283</td>\n",
       "    </tr>\n",
       "    <tr>\n",
       "      <th>3</th>\n",
       "      <td>NEGATIVE</td>\n",
       "      <td>0.998017</td>\n",
       "    </tr>\n",
       "    <tr>\n",
       "      <th>4</th>\n",
       "      <td>NEGATIVE</td>\n",
       "      <td>0.999705</td>\n",
       "    </tr>\n",
       "  </tbody>\n",
       "</table>\n",
       "</div>"
      ],
      "text/plain": [
       "  Sentiment label  Sentiment score\n",
       "0        NEGATIVE         0.998424\n",
       "1        NEGATIVE         0.999487\n",
       "2        NEGATIVE         0.999283\n",
       "3        NEGATIVE         0.998017\n",
       "4        NEGATIVE         0.999705"
      ]
     },
     "execution_count": 219,
     "metadata": {},
     "output_type": "execute_result"
    }
   ],
   "source": [
    "sentiment_data = pd.DataFrame(data={\"Sentiment label\":sentiment_label,\"Sentiment score\":sentiment_score})\n",
    "sentiment_data.head()"
   ]
  },
  {
   "cell_type": "code",
   "execution_count": 242,
   "metadata": {},
   "outputs": [
    {
     "data": {
      "text/html": [
       "<div>\n",
       "<style scoped>\n",
       "    .dataframe tbody tr th:only-of-type {\n",
       "        vertical-align: middle;\n",
       "    }\n",
       "\n",
       "    .dataframe tbody tr th {\n",
       "        vertical-align: top;\n",
       "    }\n",
       "\n",
       "    .dataframe thead th {\n",
       "        text-align: right;\n",
       "    }\n",
       "</style>\n",
       "<table border=\"1\" class=\"dataframe\">\n",
       "  <thead>\n",
       "    <tr style=\"text-align: right;\">\n",
       "      <th></th>\n",
       "      <th>Star</th>\n",
       "      <th>Text</th>\n",
       "      <th>Date</th>\n",
       "      <th>Sentiment label</th>\n",
       "      <th>Sentiment score</th>\n",
       "    </tr>\n",
       "  </thead>\n",
       "  <tbody>\n",
       "    <tr>\n",
       "      <th>0</th>\n",
       "      <td>1.0 out of 5 stars</td>\n",
       "      <td>At first when I got it I assumed everything wa...</td>\n",
       "      <td>November 25, 2018</td>\n",
       "      <td>NEGATIVE</td>\n",
       "      <td>0.998424</td>\n",
       "    </tr>\n",
       "    <tr>\n",
       "      <th>1</th>\n",
       "      <td>1.0 out of 5 stars</td>\n",
       "      <td>For some reason these controllers from Amazon ...</td>\n",
       "      <td>July 17, 2018</td>\n",
       "      <td>NEGATIVE</td>\n",
       "      <td>0.999487</td>\n",
       "    </tr>\n",
       "    <tr>\n",
       "      <th>2</th>\n",
       "      <td>1.0 out of 5 stars</td>\n",
       "      <td>Bought this as a backup for my original PS con...</td>\n",
       "      <td>September 22, 2018</td>\n",
       "      <td>NEGATIVE</td>\n",
       "      <td>0.999283</td>\n",
       "    </tr>\n",
       "    <tr>\n",
       "      <th>3</th>\n",
       "      <td>1.0 out of 5 stars</td>\n",
       "      <td>The left analog stick always wears out You may...</td>\n",
       "      <td>September 17, 2018</td>\n",
       "      <td>NEGATIVE</td>\n",
       "      <td>0.998017</td>\n",
       "    </tr>\n",
       "    <tr>\n",
       "      <th>4</th>\n",
       "      <td>2.0 out of 5 stars</td>\n",
       "      <td>I have gone through two Dualshock  new model c...</td>\n",
       "      <td>May 29, 2018</td>\n",
       "      <td>NEGATIVE</td>\n",
       "      <td>0.999705</td>\n",
       "    </tr>\n",
       "    <tr>\n",
       "      <th>...</th>\n",
       "      <td>...</td>\n",
       "      <td>...</td>\n",
       "      <td>...</td>\n",
       "      <td>...</td>\n",
       "      <td>...</td>\n",
       "    </tr>\n",
       "    <tr>\n",
       "      <th>1978</th>\n",
       "      <td>5.0 out of 5 stars</td>\n",
       "      <td>Bought this as a gift Felt sturdy Was a cool r...</td>\n",
       "      <td>July 29, 2020</td>\n",
       "      <td>POSITIVE</td>\n",
       "      <td>0.999348</td>\n",
       "    </tr>\n",
       "    <tr>\n",
       "      <th>1979</th>\n",
       "      <td>5.0 out of 5 stars</td>\n",
       "      <td>The controller is lightweight and fits nicely ...</td>\n",
       "      <td>December 21, 2018</td>\n",
       "      <td>NEGATIVE</td>\n",
       "      <td>0.999293</td>\n",
       "    </tr>\n",
       "    <tr>\n",
       "      <th>1980</th>\n",
       "      <td>3.0 out of 5 stars</td>\n",
       "      <td>I like it and it was what I needed but after a...</td>\n",
       "      <td>July 6, 2020</td>\n",
       "      <td>NEGATIVE</td>\n",
       "      <td>0.999555</td>\n",
       "    </tr>\n",
       "    <tr>\n",
       "      <th>1981</th>\n",
       "      <td>2.0 out of 5 stars</td>\n",
       "      <td>It wouldnt hold any charge when plugged in to ...</td>\n",
       "      <td>May 15, 2020</td>\n",
       "      <td>POSITIVE</td>\n",
       "      <td>0.993690</td>\n",
       "    </tr>\n",
       "    <tr>\n",
       "      <th>1982</th>\n",
       "      <td>5.0 out of 5 stars</td>\n",
       "      <td>Bought as a gift for a friendI have not used i...</td>\n",
       "      <td>August 8, 2017</td>\n",
       "      <td>NaN</td>\n",
       "      <td>NaN</td>\n",
       "    </tr>\n",
       "  </tbody>\n",
       "</table>\n",
       "<p>1983 rows × 5 columns</p>\n",
       "</div>"
      ],
      "text/plain": [
       "                    Star                                               Text  \\\n",
       "0     1.0 out of 5 stars  At first when I got it I assumed everything wa...   \n",
       "1     1.0 out of 5 stars  For some reason these controllers from Amazon ...   \n",
       "2     1.0 out of 5 stars  Bought this as a backup for my original PS con...   \n",
       "3     1.0 out of 5 stars  The left analog stick always wears out You may...   \n",
       "4     2.0 out of 5 stars  I have gone through two Dualshock  new model c...   \n",
       "...                  ...                                                ...   \n",
       "1978  5.0 out of 5 stars  Bought this as a gift Felt sturdy Was a cool r...   \n",
       "1979  5.0 out of 5 stars  The controller is lightweight and fits nicely ...   \n",
       "1980  3.0 out of 5 stars  I like it and it was what I needed but after a...   \n",
       "1981  2.0 out of 5 stars  It wouldnt hold any charge when plugged in to ...   \n",
       "1982  5.0 out of 5 stars  Bought as a gift for a friendI have not used i...   \n",
       "\n",
       "                    Date Sentiment label  Sentiment score  \n",
       "0      November 25, 2018        NEGATIVE         0.998424  \n",
       "1          July 17, 2018        NEGATIVE         0.999487  \n",
       "2     September 22, 2018        NEGATIVE         0.999283  \n",
       "3     September 17, 2018        NEGATIVE         0.998017  \n",
       "4           May 29, 2018        NEGATIVE         0.999705  \n",
       "...                  ...             ...              ...  \n",
       "1978       July 29, 2020        POSITIVE         0.999348  \n",
       "1979   December 21, 2018        NEGATIVE         0.999293  \n",
       "1980        July 6, 2020        NEGATIVE         0.999555  \n",
       "1981        May 15, 2020        POSITIVE         0.993690  \n",
       "1982      August 8, 2017             NaN              NaN  \n",
       "\n",
       "[1983 rows x 5 columns]"
      ]
     },
     "execution_count": 242,
     "metadata": {},
     "output_type": "execute_result"
    }
   ],
   "source": [
    "df2 = pd.concat([df,sentiment_data], axis = 1)\n",
    "df2"
   ]
  },
  {
   "cell_type": "code",
   "execution_count": 245,
   "metadata": {},
   "outputs": [
    {
     "data": {
      "text/html": [
       "<div>\n",
       "<style scoped>\n",
       "    .dataframe tbody tr th:only-of-type {\n",
       "        vertical-align: middle;\n",
       "    }\n",
       "\n",
       "    .dataframe tbody tr th {\n",
       "        vertical-align: top;\n",
       "    }\n",
       "\n",
       "    .dataframe thead th {\n",
       "        text-align: right;\n",
       "    }\n",
       "</style>\n",
       "<table border=\"1\" class=\"dataframe\">\n",
       "  <thead>\n",
       "    <tr style=\"text-align: right;\">\n",
       "      <th></th>\n",
       "      <th>Star</th>\n",
       "      <th>Text</th>\n",
       "      <th>Date</th>\n",
       "      <th>Sentiment label</th>\n",
       "      <th>Sentiment score</th>\n",
       "    </tr>\n",
       "  </thead>\n",
       "  <tbody>\n",
       "    <tr>\n",
       "      <th>1982</th>\n",
       "      <td>5.0 out of 5 stars</td>\n",
       "      <td>Bought as a gift for a friendI have not used i...</td>\n",
       "      <td>August 8, 2017</td>\n",
       "      <td>NaN</td>\n",
       "      <td>NaN</td>\n",
       "    </tr>\n",
       "  </tbody>\n",
       "</table>\n",
       "</div>"
      ],
      "text/plain": [
       "                    Star                                               Text  \\\n",
       "1982  5.0 out of 5 stars  Bought as a gift for a friendI have not used i...   \n",
       "\n",
       "                Date Sentiment label  Sentiment score  \n",
       "1982  August 8, 2017             NaN              NaN  "
      ]
     },
     "execution_count": 245,
     "metadata": {},
     "output_type": "execute_result"
    }
   ],
   "source": [
    "df2.loc[df2[\"Sentiment label\"].isnull()]"
   ]
  },
  {
   "cell_type": "code",
   "execution_count": 250,
   "metadata": {},
   "outputs": [
    {
     "data": {
      "text/html": [
       "<div>\n",
       "<style scoped>\n",
       "    .dataframe tbody tr th:only-of-type {\n",
       "        vertical-align: middle;\n",
       "    }\n",
       "\n",
       "    .dataframe tbody tr th {\n",
       "        vertical-align: top;\n",
       "    }\n",
       "\n",
       "    .dataframe thead th {\n",
       "        text-align: right;\n",
       "    }\n",
       "</style>\n",
       "<table border=\"1\" class=\"dataframe\">\n",
       "  <thead>\n",
       "    <tr style=\"text-align: right;\">\n",
       "      <th></th>\n",
       "      <th>Star</th>\n",
       "      <th>Text</th>\n",
       "      <th>Date</th>\n",
       "      <th>Sentiment label</th>\n",
       "      <th>Sentiment score</th>\n",
       "    </tr>\n",
       "  </thead>\n",
       "  <tbody>\n",
       "    <tr>\n",
       "      <th>0</th>\n",
       "      <td>1.0 out of 5 stars</td>\n",
       "      <td>At first when I got it I assumed everything wa...</td>\n",
       "      <td>November 25, 2018</td>\n",
       "      <td>NEGATIVE</td>\n",
       "      <td>0.998424</td>\n",
       "    </tr>\n",
       "    <tr>\n",
       "      <th>1</th>\n",
       "      <td>1.0 out of 5 stars</td>\n",
       "      <td>For some reason these controllers from Amazon ...</td>\n",
       "      <td>July 17, 2018</td>\n",
       "      <td>NEGATIVE</td>\n",
       "      <td>0.999487</td>\n",
       "    </tr>\n",
       "    <tr>\n",
       "      <th>2</th>\n",
       "      <td>1.0 out of 5 stars</td>\n",
       "      <td>Bought this as a backup for my original PS con...</td>\n",
       "      <td>September 22, 2018</td>\n",
       "      <td>NEGATIVE</td>\n",
       "      <td>0.999283</td>\n",
       "    </tr>\n",
       "    <tr>\n",
       "      <th>3</th>\n",
       "      <td>1.0 out of 5 stars</td>\n",
       "      <td>The left analog stick always wears out You may...</td>\n",
       "      <td>September 17, 2018</td>\n",
       "      <td>NEGATIVE</td>\n",
       "      <td>0.998017</td>\n",
       "    </tr>\n",
       "    <tr>\n",
       "      <th>4</th>\n",
       "      <td>2.0 out of 5 stars</td>\n",
       "      <td>I have gone through two Dualshock  new model c...</td>\n",
       "      <td>May 29, 2018</td>\n",
       "      <td>NEGATIVE</td>\n",
       "      <td>0.999705</td>\n",
       "    </tr>\n",
       "    <tr>\n",
       "      <th>...</th>\n",
       "      <td>...</td>\n",
       "      <td>...</td>\n",
       "      <td>...</td>\n",
       "      <td>...</td>\n",
       "      <td>...</td>\n",
       "    </tr>\n",
       "    <tr>\n",
       "      <th>1977</th>\n",
       "      <td>2.0 out of 5 stars</td>\n",
       "      <td>Right analog stick is already starting to drif...</td>\n",
       "      <td>July 11, 2019</td>\n",
       "      <td>POSITIVE</td>\n",
       "      <td>0.999404</td>\n",
       "    </tr>\n",
       "    <tr>\n",
       "      <th>1978</th>\n",
       "      <td>5.0 out of 5 stars</td>\n",
       "      <td>Bought this as a gift Felt sturdy Was a cool r...</td>\n",
       "      <td>July 29, 2020</td>\n",
       "      <td>POSITIVE</td>\n",
       "      <td>0.999348</td>\n",
       "    </tr>\n",
       "    <tr>\n",
       "      <th>1979</th>\n",
       "      <td>5.0 out of 5 stars</td>\n",
       "      <td>The controller is lightweight and fits nicely ...</td>\n",
       "      <td>December 21, 2018</td>\n",
       "      <td>NEGATIVE</td>\n",
       "      <td>0.999293</td>\n",
       "    </tr>\n",
       "    <tr>\n",
       "      <th>1980</th>\n",
       "      <td>3.0 out of 5 stars</td>\n",
       "      <td>I like it and it was what I needed but after a...</td>\n",
       "      <td>July 6, 2020</td>\n",
       "      <td>NEGATIVE</td>\n",
       "      <td>0.999555</td>\n",
       "    </tr>\n",
       "    <tr>\n",
       "      <th>1981</th>\n",
       "      <td>2.0 out of 5 stars</td>\n",
       "      <td>It wouldnt hold any charge when plugged in to ...</td>\n",
       "      <td>May 15, 2020</td>\n",
       "      <td>POSITIVE</td>\n",
       "      <td>0.993690</td>\n",
       "    </tr>\n",
       "  </tbody>\n",
       "</table>\n",
       "<p>1982 rows × 5 columns</p>\n",
       "</div>"
      ],
      "text/plain": [
       "                    Star                                               Text  \\\n",
       "0     1.0 out of 5 stars  At first when I got it I assumed everything wa...   \n",
       "1     1.0 out of 5 stars  For some reason these controllers from Amazon ...   \n",
       "2     1.0 out of 5 stars  Bought this as a backup for my original PS con...   \n",
       "3     1.0 out of 5 stars  The left analog stick always wears out You may...   \n",
       "4     2.0 out of 5 stars  I have gone through two Dualshock  new model c...   \n",
       "...                  ...                                                ...   \n",
       "1977  2.0 out of 5 stars  Right analog stick is already starting to drif...   \n",
       "1978  5.0 out of 5 stars  Bought this as a gift Felt sturdy Was a cool r...   \n",
       "1979  5.0 out of 5 stars  The controller is lightweight and fits nicely ...   \n",
       "1980  3.0 out of 5 stars  I like it and it was what I needed but after a...   \n",
       "1981  2.0 out of 5 stars  It wouldnt hold any charge when plugged in to ...   \n",
       "\n",
       "                    Date Sentiment label  Sentiment score  \n",
       "0      November 25, 2018        NEGATIVE         0.998424  \n",
       "1          July 17, 2018        NEGATIVE         0.999487  \n",
       "2     September 22, 2018        NEGATIVE         0.999283  \n",
       "3     September 17, 2018        NEGATIVE         0.998017  \n",
       "4           May 29, 2018        NEGATIVE         0.999705  \n",
       "...                  ...             ...              ...  \n",
       "1977       July 11, 2019        POSITIVE         0.999404  \n",
       "1978       July 29, 2020        POSITIVE         0.999348  \n",
       "1979   December 21, 2018        NEGATIVE         0.999293  \n",
       "1980        July 6, 2020        NEGATIVE         0.999555  \n",
       "1981        May 15, 2020        POSITIVE         0.993690  \n",
       "\n",
       "[1982 rows x 5 columns]"
      ]
     },
     "execution_count": 250,
     "metadata": {},
     "output_type": "execute_result"
    }
   ],
   "source": [
    "df2.drop([1982])"
   ]
  },
  {
   "cell_type": "code",
   "execution_count": 251,
   "metadata": {},
   "outputs": [],
   "source": [
    "df2.to_excel(\"Amazon_sentiment_analysis.xlsx\", index = False)"
   ]
  },
  {
   "cell_type": "code",
   "execution_count": null,
   "metadata": {},
   "outputs": [],
   "source": []
  }
 ],
 "metadata": {
  "kernelspec": {
   "display_name": "Python 3",
   "language": "python",
   "name": "python3"
  },
  "language_info": {
   "codemirror_mode": {
    "name": "ipython",
    "version": 3
   },
   "file_extension": ".py",
   "mimetype": "text/x-python",
   "name": "python",
   "nbconvert_exporter": "python",
   "pygments_lexer": "ipython3",
   "version": "3.8.8"
  },
  "toc-showcode": false
 },
 "nbformat": 4,
 "nbformat_minor": 4
}
