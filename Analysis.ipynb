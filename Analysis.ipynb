{
 "cells": [
  {
   "cell_type": "code",
   "execution_count": 2,
   "metadata": {},
   "outputs": [],
   "source": [
    "import pandas as pd\n",
    "import numpy as np\n",
    "import matplotlib.pyplot as plt\n",
    "from bs4 import BeautifulSoup\n",
    "import os"
   ]
  },
  {
   "cell_type": "markdown",
   "metadata": {},
   "source": [
    "### What we need to analyze\n",
    "* User Name\n",
    "* Review Text\n",
    "* Review Star\n",
    "* Date\n"
   ]
  },
  {
   "cell_type": "code",
   "execution_count": 3,
   "metadata": {
    "tags": []
   },
   "outputs": [],
   "source": [
    "with open(\"C:/Users/Admin/Desktop/Python_DA/Crawling/1.html\", \"r\", encoding = \"utf-8\") as reader:\n",
    "    html_string = reader.read()\n",
    "    soup = BeautifulSoup(html_string, \"html.parser\")"
   ]
  },
  {
   "cell_type": "code",
   "execution_count": 4,
   "metadata": {},
   "outputs": [
    {
     "data": {
      "text/plain": [
       "'5.0 out of 5 stars'"
      ]
     },
     "execution_count": 4,
     "metadata": {},
     "output_type": "execute_result"
    }
   ],
   "source": [
    "# Review Star\n",
    "soup.find_all(class_=\"review-rating\")[0].text.strip()"
   ]
  },
  {
   "cell_type": "code",
   "execution_count": 5,
   "metadata": {
    "tags": []
   },
   "outputs": [
    {
     "data": {
      "text/plain": [
       "\"At first when I got it, I assumed everything was fine, but i quickly noticed that there were a couple things off about the controller. It might have been my paranoia, but I dont think these controllers are authentic. My right analog stick has stopped working within 4 months of me buying the controller. I had my original controller for years before it stopped working, and this one didn't even last half a year. I don't understand how that is possible. I bought one from Best Buy on Black Friday and compared, and there are minute details that are off with the touch pad and the directional pad. Additionally, the serial number label on the back of the controller is different than the other controllers I have (two I bought from Best Buy a couple days ago). I recommend buying from the store...these are not the wave!\""
      ]
     },
     "execution_count": 5,
     "metadata": {},
     "output_type": "execute_result"
    }
   ],
   "source": [
    "# Review Text\n",
    "soup.find_all(class_=\"a-row a-spacing-small review-data\")[0].text.strip()"
   ]
  },
  {
   "cell_type": "markdown",
   "metadata": {},
   "source": [
    "### Ở đây do chúng ta đang lấy\n",
    "*soup.find_all(class_=\"celwidget\") ở đây chúng ta sử dụng class celwidget để lấy ra từng block comment, sau đó ta thao tác trong từng block comment đó, thông qua vòng lặp for dưới đây"
   ]
  },
  {
   "cell_type": "code",
   "execution_count": 10,
   "metadata": {},
   "outputs": [],
   "source": [
    "files = os.listdir(\"C:/Users/Admin/Desktop/Python_DA/Crawling/\")"
   ]
  },
  {
   "cell_type": "code",
   "execution_count": 11,
   "metadata": {
    "tags": []
   },
   "outputs": [],
   "source": [
    "review_star = []\n",
    "review_text = []\n",
    "review_date = []\n",
    "\n",
    "for i in files:\n",
    "    #print(i) for checking\n",
    "    with open(f\"C:/Users/Admin/Desktop/Python_DA/Crawling/{i}\", \"r\", encoding = \"utf8\") as reader:\n",
    "        html_string = reader.read()\n",
    "        soup = BeautifulSoup(html_string, \"html.parser\")\n",
    "        for review in soup.find_all(class_=\"a-section celwidget\"):\n",
    "            review_star.append(review.find_all(class_=\"review-rating\")[0].text.strip())\n",
    "            review_text.append(review.find_all(class_=\"a-size-base review-text review-text-content\")[0].text.strip())\n",
    "            review_date.append(review.find_all(class_=\"a-size-base a-color-secondary review-date\")[0].text.strip()) #Date of Review\n"
   ]
  },
  {
   "cell_type": "code",
   "execution_count": 12,
   "metadata": {},
   "outputs": [
    {
     "name": "stdout",
     "output_type": "stream",
     "text": [
      "1990\n",
      "1990\n"
     ]
    }
   ],
   "source": [
    "#checking\n",
    "print(len(review_star))\n",
    "print(len(review_text))"
   ]
  },
  {
   "cell_type": "code",
   "execution_count": 14,
   "metadata": {},
   "outputs": [
    {
     "data": {
      "text/html": [
       "<div>\n",
       "<style scoped>\n",
       "    .dataframe tbody tr th:only-of-type {\n",
       "        vertical-align: middle;\n",
       "    }\n",
       "\n",
       "    .dataframe tbody tr th {\n",
       "        vertical-align: top;\n",
       "    }\n",
       "\n",
       "    .dataframe thead th {\n",
       "        text-align: right;\n",
       "    }\n",
       "</style>\n",
       "<table border=\"1\" class=\"dataframe\">\n",
       "  <thead>\n",
       "    <tr style=\"text-align: right;\">\n",
       "      <th></th>\n",
       "      <th>Star</th>\n",
       "      <th>Text</th>\n",
       "      <th>Date</th>\n",
       "    </tr>\n",
       "  </thead>\n",
       "  <tbody>\n",
       "    <tr>\n",
       "      <th>0</th>\n",
       "      <td>1.0 out of 5 stars</td>\n",
       "      <td>At first when I got it, I assumed everything w...</td>\n",
       "      <td>Reviewed in the United States on November 25, ...</td>\n",
       "    </tr>\n",
       "    <tr>\n",
       "      <th>1</th>\n",
       "      <td>1.0 out of 5 stars</td>\n",
       "      <td>For some reason these controllers from Amazon ...</td>\n",
       "      <td>Reviewed in the United States on July 17, 2018</td>\n",
       "    </tr>\n",
       "    <tr>\n",
       "      <th>2</th>\n",
       "      <td>1.0 out of 5 stars</td>\n",
       "      <td>Bought this as a backup for my original PS4 co...</td>\n",
       "      <td>Reviewed in the United States on September 22,...</td>\n",
       "    </tr>\n",
       "    <tr>\n",
       "      <th>3</th>\n",
       "      <td>1.0 out of 5 stars</td>\n",
       "      <td>The left analog stick always wears out. You ma...</td>\n",
       "      <td>Reviewed in the United States on September 17,...</td>\n",
       "    </tr>\n",
       "    <tr>\n",
       "      <th>4</th>\n",
       "      <td>2.0 out of 5 stars</td>\n",
       "      <td>I have gone through two Dualshock 4 new model ...</td>\n",
       "      <td>Reviewed in the United States on May 29, 2018</td>\n",
       "    </tr>\n",
       "  </tbody>\n",
       "</table>\n",
       "</div>"
      ],
      "text/plain": [
       "                 Star                                               Text  \\\n",
       "0  1.0 out of 5 stars  At first when I got it, I assumed everything w...   \n",
       "1  1.0 out of 5 stars  For some reason these controllers from Amazon ...   \n",
       "2  1.0 out of 5 stars  Bought this as a backup for my original PS4 co...   \n",
       "3  1.0 out of 5 stars  The left analog stick always wears out. You ma...   \n",
       "4  2.0 out of 5 stars  I have gone through two Dualshock 4 new model ...   \n",
       "\n",
       "                                                Date  \n",
       "0  Reviewed in the United States on November 25, ...  \n",
       "1     Reviewed in the United States on July 17, 2018  \n",
       "2  Reviewed in the United States on September 22,...  \n",
       "3  Reviewed in the United States on September 17,...  \n",
       "4      Reviewed in the United States on May 29, 2018  "
      ]
     },
     "execution_count": 14,
     "metadata": {},
     "output_type": "execute_result"
    }
   ],
   "source": [
    "df = pd.DataFrame(data={\"Star\":review_star,\"Text\":review_text,\"Date\":review_date})\n",
    "df.head()"
   ]
  },
  {
   "cell_type": "code",
   "execution_count": 15,
   "metadata": {},
   "outputs": [],
   "source": [
    "df[\"Date\"] = df[\"Date\"].str.replace(\"Reviewed in the United States on \",\"\",regex = True)"
   ]
  },
  {
   "cell_type": "code",
   "execution_count": 16,
   "metadata": {},
   "outputs": [
    {
     "data": {
      "text/html": [
       "<div>\n",
       "<style scoped>\n",
       "    .dataframe tbody tr th:only-of-type {\n",
       "        vertical-align: middle;\n",
       "    }\n",
       "\n",
       "    .dataframe tbody tr th {\n",
       "        vertical-align: top;\n",
       "    }\n",
       "\n",
       "    .dataframe thead th {\n",
       "        text-align: right;\n",
       "    }\n",
       "</style>\n",
       "<table border=\"1\" class=\"dataframe\">\n",
       "  <thead>\n",
       "    <tr style=\"text-align: right;\">\n",
       "      <th></th>\n",
       "      <th>Star</th>\n",
       "      <th>Text</th>\n",
       "      <th>Date</th>\n",
       "    </tr>\n",
       "  </thead>\n",
       "  <tbody>\n",
       "    <tr>\n",
       "      <th>0</th>\n",
       "      <td>1.0 out of 5 stars</td>\n",
       "      <td>At first when I got it, I assumed everything w...</td>\n",
       "      <td>November 25, 2018</td>\n",
       "    </tr>\n",
       "    <tr>\n",
       "      <th>1</th>\n",
       "      <td>1.0 out of 5 stars</td>\n",
       "      <td>For some reason these controllers from Amazon ...</td>\n",
       "      <td>July 17, 2018</td>\n",
       "    </tr>\n",
       "    <tr>\n",
       "      <th>2</th>\n",
       "      <td>1.0 out of 5 stars</td>\n",
       "      <td>Bought this as a backup for my original PS4 co...</td>\n",
       "      <td>September 22, 2018</td>\n",
       "    </tr>\n",
       "    <tr>\n",
       "      <th>3</th>\n",
       "      <td>1.0 out of 5 stars</td>\n",
       "      <td>The left analog stick always wears out. You ma...</td>\n",
       "      <td>September 17, 2018</td>\n",
       "    </tr>\n",
       "    <tr>\n",
       "      <th>4</th>\n",
       "      <td>2.0 out of 5 stars</td>\n",
       "      <td>I have gone through two Dualshock 4 new model ...</td>\n",
       "      <td>May 29, 2018</td>\n",
       "    </tr>\n",
       "    <tr>\n",
       "      <th>...</th>\n",
       "      <td>...</td>\n",
       "      <td>...</td>\n",
       "      <td>...</td>\n",
       "    </tr>\n",
       "    <tr>\n",
       "      <th>1985</th>\n",
       "      <td>5.0 out of 5 stars</td>\n",
       "      <td>Bought this as a gift. Felt sturdy. Was a cool...</td>\n",
       "      <td>July 29, 2020</td>\n",
       "    </tr>\n",
       "    <tr>\n",
       "      <th>1986</th>\n",
       "      <td>5.0 out of 5 stars</td>\n",
       "      <td>The controller is lightweight and fits nicely ...</td>\n",
       "      <td>December 21, 2018</td>\n",
       "    </tr>\n",
       "    <tr>\n",
       "      <th>1987</th>\n",
       "      <td>3.0 out of 5 stars</td>\n",
       "      <td>I like it and it was what I needed but after a...</td>\n",
       "      <td>July 6, 2020</td>\n",
       "    </tr>\n",
       "    <tr>\n",
       "      <th>1988</th>\n",
       "      <td>2.0 out of 5 stars</td>\n",
       "      <td>It wouldn’t hold any charge when plugged in to...</td>\n",
       "      <td>May 15, 2020</td>\n",
       "    </tr>\n",
       "    <tr>\n",
       "      <th>1989</th>\n",
       "      <td>5.0 out of 5 stars</td>\n",
       "      <td>Bought as a gift for a friend.I have not used ...</td>\n",
       "      <td>August 8, 2017</td>\n",
       "    </tr>\n",
       "  </tbody>\n",
       "</table>\n",
       "<p>1990 rows × 3 columns</p>\n",
       "</div>"
      ],
      "text/plain": [
       "                    Star                                               Text  \\\n",
       "0     1.0 out of 5 stars  At first when I got it, I assumed everything w...   \n",
       "1     1.0 out of 5 stars  For some reason these controllers from Amazon ...   \n",
       "2     1.0 out of 5 stars  Bought this as a backup for my original PS4 co...   \n",
       "3     1.0 out of 5 stars  The left analog stick always wears out. You ma...   \n",
       "4     2.0 out of 5 stars  I have gone through two Dualshock 4 new model ...   \n",
       "...                  ...                                                ...   \n",
       "1985  5.0 out of 5 stars  Bought this as a gift. Felt sturdy. Was a cool...   \n",
       "1986  5.0 out of 5 stars  The controller is lightweight and fits nicely ...   \n",
       "1987  3.0 out of 5 stars  I like it and it was what I needed but after a...   \n",
       "1988  2.0 out of 5 stars  It wouldn’t hold any charge when plugged in to...   \n",
       "1989  5.0 out of 5 stars  Bought as a gift for a friend.I have not used ...   \n",
       "\n",
       "                    Date  \n",
       "0      November 25, 2018  \n",
       "1          July 17, 2018  \n",
       "2     September 22, 2018  \n",
       "3     September 17, 2018  \n",
       "4           May 29, 2018  \n",
       "...                  ...  \n",
       "1985       July 29, 2020  \n",
       "1986   December 21, 2018  \n",
       "1987        July 6, 2020  \n",
       "1988        May 15, 2020  \n",
       "1989      August 8, 2017  \n",
       "\n",
       "[1990 rows x 3 columns]"
      ]
     },
     "execution_count": 16,
     "metadata": {},
     "output_type": "execute_result"
    }
   ],
   "source": [
    "df"
   ]
  },
  {
   "cell_type": "code",
   "execution_count": null,
   "metadata": {},
   "outputs": [],
   "source": []
  }
 ],
 "metadata": {
  "kernelspec": {
   "display_name": "Python 3",
   "language": "python",
   "name": "python3"
  },
  "language_info": {
   "codemirror_mode": {
    "name": "ipython",
    "version": 3
   },
   "file_extension": ".py",
   "mimetype": "text/x-python",
   "name": "python",
   "nbconvert_exporter": "python",
   "pygments_lexer": "ipython3",
   "version": "3.7.6"
  },
  "toc-showcode": false
 },
 "nbformat": 4,
 "nbformat_minor": 4
}
